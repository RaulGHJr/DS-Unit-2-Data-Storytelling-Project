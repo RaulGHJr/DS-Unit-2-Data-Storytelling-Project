{
 "cells": [
  {
   "cell_type": "code",
   "execution_count": 1,
   "metadata": {},
   "outputs": [],
   "source": [
    "# Let's do our imports\n",
    "import numpy as np\n",
    "import matplotlib.pyplot as plt\n",
    "import seaborn as sns\n",
    "import category_encoders as ce\n",
    "import pandas as pd\n",
    "import os\n",
    "import warnings\n",
    "import urllib.request\n",
    "from scipy.stats import randint, uniform\n",
    "from sklearn.metrics import classification_report, roc_auc_score, roc_curve\n",
    "from sklearn.model_selection import RandomizedSearchCV, GridSearchCV, cross_val_score, validation_curve, cross_validate\n",
    "from sklearn.ensemble import RandomForestClassifier\n",
    "from xgboost import XGBClassifier\n",
    "from glob import glob\n",
    "%matplotlib inline"
   ]
  },
  {
   "cell_type": "code",
   "execution_count": 5,
   "metadata": {},
   "outputs": [
    {
     "name": "stdout",
     "output_type": "stream",
     "text": [
      "(485, 18)\n"
     ]
    },
    {
     "data": {
      "text/html": [
       "<div>\n",
       "<style scoped>\n",
       "    .dataframe tbody tr th:only-of-type {\n",
       "        vertical-align: middle;\n",
       "    }\n",
       "\n",
       "    .dataframe tbody tr th {\n",
       "        vertical-align: top;\n",
       "    }\n",
       "\n",
       "    .dataframe thead th {\n",
       "        text-align: right;\n",
       "    }\n",
       "</style>\n",
       "<table border=\"1\" class=\"dataframe\">\n",
       "  <thead>\n",
       "    <tr style=\"text-align: right;\">\n",
       "      <th></th>\n",
       "      <th>Year</th>\n",
       "      <th>Won?</th>\n",
       "      <th>Acting Noms</th>\n",
       "      <th>Acting Wins</th>\n",
       "      <th>Writing Noms</th>\n",
       "      <th>Writing Wins</th>\n",
       "      <th>Directing Noms</th>\n",
       "      <th>Directing Wins</th>\n",
       "      <th>Cinematography Noms</th>\n",
       "      <th>Cinematography Wins</th>\n",
       "      <th>Editing Noms</th>\n",
       "      <th>Editing Wins</th>\n",
       "      <th>Production Design Noms</th>\n",
       "      <th>Production Design Wins</th>\n",
       "      <th>Sound Noms</th>\n",
       "      <th>Sound Wins</th>\n",
       "      <th>Total Nominations</th>\n",
       "      <th>Total Wins</th>\n",
       "    </tr>\n",
       "  </thead>\n",
       "  <tbody>\n",
       "    <tr>\n",
       "      <th>0</th>\n",
       "      <td>2010</td>\n",
       "      <td>0</td>\n",
       "      <td>1</td>\n",
       "      <td>1</td>\n",
       "      <td>0</td>\n",
       "      <td>0</td>\n",
       "      <td>1</td>\n",
       "      <td>0</td>\n",
       "      <td>1</td>\n",
       "      <td>0</td>\n",
       "      <td>1</td>\n",
       "      <td>0</td>\n",
       "      <td>0</td>\n",
       "      <td>0</td>\n",
       "      <td>0</td>\n",
       "      <td>0</td>\n",
       "      <td>4</td>\n",
       "      <td>1</td>\n",
       "    </tr>\n",
       "    <tr>\n",
       "      <th>1</th>\n",
       "      <td>2010</td>\n",
       "      <td>0</td>\n",
       "      <td>3</td>\n",
       "      <td>2</td>\n",
       "      <td>1</td>\n",
       "      <td>0</td>\n",
       "      <td>1</td>\n",
       "      <td>0</td>\n",
       "      <td>0</td>\n",
       "      <td>0</td>\n",
       "      <td>1</td>\n",
       "      <td>0</td>\n",
       "      <td>0</td>\n",
       "      <td>0</td>\n",
       "      <td>0</td>\n",
       "      <td>0</td>\n",
       "      <td>6</td>\n",
       "      <td>2</td>\n",
       "    </tr>\n",
       "    <tr>\n",
       "      <th>2</th>\n",
       "      <td>2010</td>\n",
       "      <td>0</td>\n",
       "      <td>0</td>\n",
       "      <td>0</td>\n",
       "      <td>1</td>\n",
       "      <td>0</td>\n",
       "      <td>0</td>\n",
       "      <td>0</td>\n",
       "      <td>1</td>\n",
       "      <td>1</td>\n",
       "      <td>0</td>\n",
       "      <td>0</td>\n",
       "      <td>1</td>\n",
       "      <td>0</td>\n",
       "      <td>3</td>\n",
       "      <td>2</td>\n",
       "      <td>6</td>\n",
       "      <td>3</td>\n",
       "    </tr>\n",
       "    <tr>\n",
       "      <th>3</th>\n",
       "      <td>2010</td>\n",
       "      <td>0</td>\n",
       "      <td>2</td>\n",
       "      <td>0</td>\n",
       "      <td>1</td>\n",
       "      <td>0</td>\n",
       "      <td>0</td>\n",
       "      <td>0</td>\n",
       "      <td>0</td>\n",
       "      <td>0</td>\n",
       "      <td>0</td>\n",
       "      <td>0</td>\n",
       "      <td>0</td>\n",
       "      <td>0</td>\n",
       "      <td>0</td>\n",
       "      <td>0</td>\n",
       "      <td>3</td>\n",
       "      <td>0</td>\n",
       "    </tr>\n",
       "    <tr>\n",
       "      <th>4</th>\n",
       "      <td>2010</td>\n",
       "      <td>1</td>\n",
       "      <td>3</td>\n",
       "      <td>1</td>\n",
       "      <td>1</td>\n",
       "      <td>1</td>\n",
       "      <td>1</td>\n",
       "      <td>1</td>\n",
       "      <td>1</td>\n",
       "      <td>0</td>\n",
       "      <td>1</td>\n",
       "      <td>0</td>\n",
       "      <td>2</td>\n",
       "      <td>0</td>\n",
       "      <td>2</td>\n",
       "      <td>0</td>\n",
       "      <td>11</td>\n",
       "      <td>3</td>\n",
       "    </tr>\n",
       "  </tbody>\n",
       "</table>\n",
       "</div>"
      ],
      "text/plain": [
       "   Year  Won?  Acting Noms  Acting Wins  Writing Noms  Writing Wins  \\\n",
       "0  2010     0            1            1             0             0   \n",
       "1  2010     0            3            2             1             0   \n",
       "2  2010     0            0            0             1             0   \n",
       "3  2010     0            2            0             1             0   \n",
       "4  2010     1            3            1             1             1   \n",
       "\n",
       "   Directing Noms  Directing Wins  Cinematography Noms  Cinematography Wins  \\\n",
       "0               1               0                    1                    0   \n",
       "1               1               0                    0                    0   \n",
       "2               0               0                    1                    1   \n",
       "3               0               0                    0                    0   \n",
       "4               1               1                    1                    0   \n",
       "\n",
       "   Editing Noms  Editing Wins  Production Design Noms  Production Design Wins  \\\n",
       "0             1             0                       0                       0   \n",
       "1             1             0                       0                       0   \n",
       "2             0             0                       1                       0   \n",
       "3             0             0                       0                       0   \n",
       "4             1             0                       2                       0   \n",
       "\n",
       "   Sound Noms  Sound Wins  Total Nominations  Total Wins  \n",
       "0           0           0                  4           1  \n",
       "1           0           0                  6           2  \n",
       "2           3           2                  6           3  \n",
       "3           0           0                  3           0  \n",
       "4           2           0                 11           3  "
      ]
     },
     "execution_count": 5,
     "metadata": {},
     "output_type": "execute_result"
    }
   ],
   "source": [
    "train = pd.read_csv('../oscartraindata.csv', index_col=0)\n",
    "\n",
    "print(train.shape)\n",
    "train.head()"
   ]
  },
  {
   "cell_type": "code",
   "execution_count": 6,
   "metadata": {},
   "outputs": [],
   "source": [
    "target = 'Won?'\n",
    "\n",
    "xtrain = train.drop(columns=target)\n",
    "\n",
    "ytrain = train[target]"
   ]
  },
  {
   "cell_type": "code",
   "execution_count": 7,
   "metadata": {},
   "outputs": [
    {
     "name": "stdout",
     "output_type": "stream",
     "text": [
      "              precision    recall  f1-score   support\n",
      "\n",
      "           0       0.83      1.00      0.91       402\n",
      "           1       0.00      0.00      0.00        83\n",
      "\n",
      "    accuracy                           0.83       485\n",
      "   macro avg       0.41      0.50      0.45       485\n",
      "weighted avg       0.69      0.83      0.75       485\n",
      "\n"
     ]
    },
    {
     "name": "stderr",
     "output_type": "stream",
     "text": [
      "C:\\Users\\Raul\\Anaconda3\\lib\\site-packages\\sklearn\\metrics\\classification.py:1437: UndefinedMetricWarning: Precision and F-score are ill-defined and being set to 0.0 in labels with no predicted samples.\n",
      "  'precision', 'predicted', average, warn_for)\n"
     ]
    }
   ],
   "source": [
    "# Now let's get a baseline. Let's say that we think that everyone will Lose (majority class)\n",
    "ypred = np.full_like(ytrain, fill_value=0)\n",
    "\n",
    "print(classification_report(ytrain, ypred))"
   ]
  },
  {
   "cell_type": "code",
   "execution_count": 8,
   "metadata": {},
   "outputs": [
    {
     "name": "stdout",
     "output_type": "stream",
     "text": [
      "Baseline ROC AUC score: 0.5\n"
     ]
    }
   ],
   "source": [
    "# Seeing how imbalanced the observations are, we'll use ROC AUC as our metric\n",
    "Baseline = roc_auc_score(ytrain, ypred)    \n",
    "\n",
    "print('Baseline ROC AUC score:', Baseline)"
   ]
  },
  {
   "cell_type": "code",
   "execution_count": 9,
   "metadata": {},
   "outputs": [
    {
     "name": "stdout",
     "output_type": "stream",
     "text": [
      "ROC AUC Score for 5 folds [0.92374728 0.96804648 0.95661765 0.87929687 0.73398438]\n"
     ]
    }
   ],
   "source": [
    "# Now we can try to beat our baseline score\n",
    "# Let's give the RandomForestClassifier a shot\n",
    "# Note: We don't need pipeline anymore, our entire dataframe is integers\n",
    "clf = RandomForestClassifier(max_depth=10, n_estimators=100, random_state=42, n_jobs=-1, class_weight='balanced')\n",
    "\n",
    "k=5\n",
    "groups = train['Year']\n",
    "scores = cross_validate(clf,\n",
    "                        xtrain,\n",
    "                        ytrain,\n",
    "                        cv=k,\n",
    "                        scoring='roc_auc',\n",
    "                        groups=groups,\n",
    "                        return_estimator=True)\n",
    "\n",
    "print(f'ROC AUC Score for {k} folds', scores['test_score'])"
   ]
  },
  {
   "cell_type": "code",
   "execution_count": 10,
   "metadata": {},
   "outputs": [
    {
     "name": "stdout",
     "output_type": "stream",
     "text": [
      "Directing Wins            0.251753\n",
      "Total Wins                0.145389\n",
      "Year                      0.129102\n",
      "Total Nominations         0.112949\n",
      "Writing Wins              0.056138\n",
      "Acting Noms               0.048301\n",
      "Directing Noms            0.042216\n",
      "Editing Noms              0.038103\n",
      "Production Design Noms    0.028656\n",
      "Sound Noms                0.027620\n",
      "Writing Noms              0.026740\n",
      "Cinematography Noms       0.024954\n",
      "Acting Wins               0.023519\n",
      "Production Design Wins    0.016353\n",
      "Sound Wins                0.010208\n",
      "Editing Wins              0.009088\n",
      "Cinematography Wins       0.008912\n",
      "dtype: float64\n"
     ]
    },
    {
     "data": {
      "image/png": "[encoded data removed]",
      "text/plain": [
       "<Figure size 720x612 with 1 Axes>"
      ]
     },
     "metadata": {
      "needs_background": "light"
     },
     "output_type": "display_data"
    }
   ],
   "source": [
    "# Let's take a look at the feature importances\n",
    "estimator = scores['estimator'][0]\n",
    "\n",
    "importances = pd.Series(estimator.feature_importances_, xtrain.columns)\n",
    "\n",
    "n = len(xtrain.columns)\n",
    "plt.figure(figsize=(10,n/2))\n",
    "plt.title('Feature Importances')\n",
    "importances.sort_values().plot.barh(color='grey');\n",
    "print(importances.sort_values(ascending=False))"
   ]
  },
  {
   "cell_type": "code",
   "execution_count": null,
   "metadata": {},
   "outputs": [],
   "source": []
  },
  {
   "cell_type": "code",
   "execution_count": 11,
   "metadata": {},
   "outputs": [
    {
     "data": {
      "image/png": "[encoded data removed]",
      "text/plain": [
       "<Figure size 432x288 with 1 Axes>"
      ]
     },
     "metadata": {
      "needs_background": "light"
     },
     "output_type": "display_data"
    }
   ],
   "source": [
    "# Now let's take a look at the validation curve, with a range of n_estimators\n",
    "clf = RandomForestClassifier(max_depth=7, random_state=42, n_jobs=-1)\n",
    "\n",
    "k=5\n",
    "groups = train['Year']\n",
    "depth = range(10, 100, 10)\n",
    "\n",
    "train_scores, val_scores= validation_curve(\n",
    "    clf, xtrain, ytrain,\n",
    "    param_name='n_estimators',\n",
    "    param_range=depth,\n",
    "    scoring='roc_auc',\n",
    "    cv=k,\n",
    "    groups=groups)\n",
    "\n",
    "plt.plot(depth, np.mean(train_scores, axis=1), color='blue', label='training roc auc')\n",
    "plt.plot(depth, np.mean(val_scores, axis=1), color='red', label='validation roc auc')\n",
    "plt.xlabel('estimators')\n",
    "plt.ylabel('Roc Auc score')\n",
    "plt.legend();"
   ]
  },
  {
   "cell_type": "code",
   "execution_count": 12,
   "metadata": {},
   "outputs": [
    {
     "data": {
      "image/png": "[encoded data removed]",
      "text/plain": [
       "<Figure size 432x288 with 1 Axes>"
      ]
     },
     "metadata": {
      "needs_background": "light"
     },
     "output_type": "display_data"
    }
   ],
   "source": [
    "# Now with a range of max_depth values\n",
    "clf = RandomForestClassifier(n_estimators=50, random_state=42, n_jobs=-1)\n",
    "\n",
    "k=5\n",
    "groups = train['Year']\n",
    "depth = range(1, 15, 2)\n",
    "\n",
    "train_scores, val_scores= validation_curve(\n",
    "    clf, xtrain, ytrain,\n",
    "    param_name='max_depth',\n",
    "    param_range=depth,\n",
    "    scoring='roc_auc',\n",
    "    cv=k,\n",
    "    groups=groups)\n",
    "\n",
    "plt.plot(depth, np.mean(train_scores, axis=1), color='blue', label='training roc auc')\n",
    "plt.plot(depth, np.mean(val_scores, axis=1), color='red', label='validation roc auc')\n",
    "plt.xlabel('depth')\n",
    "plt.ylabel('Roc Auc score')\n",
    "plt.legend();"
   ]
  },
  {
   "cell_type": "code",
   "execution_count": 13,
   "metadata": {},
   "outputs": [
    {
     "name": "stdout",
     "output_type": "stream",
     "text": [
      "ROC AUC Score for 5 folds [0.96586783 0.96514161 0.96691176 0.9265625  0.73789063]\n"
     ]
    }
   ],
   "source": [
    "# The eyyeball test gives us some options to make chages to our classifier\n",
    "clf = RandomForestClassifier(max_depth=3, n_estimators=50, random_state=42, n_jobs=-1)\n",
    "\n",
    "k=5\n",
    "groups = train['Year']\n",
    "scores = cross_validate(clf,\n",
    "                        xtrain,\n",
    "                        ytrain,\n",
    "                        cv=k,\n",
    "                        scoring='roc_auc',\n",
    "                        groups=groups,\n",
    "                        return_estimator=True)\n",
    "\n",
    "print(f'ROC AUC Score for {k} folds', scores['test_score'])"
   ]
  },
  {
   "cell_type": "code",
   "execution_count": 19,
   "metadata": {},
   "outputs": [
    {
     "name": "stdout",
     "output_type": "stream",
     "text": [
      "Fitting 3 folds for each of 5 candidates, totalling 15 fits\n"
     ]
    },
    {
     "name": "stderr",
     "output_type": "stream",
     "text": [
      "[Parallel(n_jobs=-1)]: Using backend LokyBackend with 4 concurrent workers.\n",
      "[Parallel(n_jobs=-1)]: Done   5 tasks      | elapsed:    0.7s\n",
      "[Parallel(n_jobs=-1)]: Done  10 out of  15 | elapsed:    1.7s remaining:    0.8s\n",
      "[Parallel(n_jobs=-1)]: Done  12 out of  15 | elapsed:    2.0s remaining:    0.4s\n",
      "[Parallel(n_jobs=-1)]: Done  15 out of  15 | elapsed:    2.3s finished\n",
      "C:\\Users\\Raul\\Anaconda3\\lib\\site-packages\\sklearn\\model_selection\\_search.py:813: DeprecationWarning: The default of the `iid` parameter will change from True to False in version 0.22 and will be removed in 0.24. This will change numeric results when test-set sizes are unequal.\n",
      "  DeprecationWarning)\n"
     ]
    },
    {
     "name": "stdout",
     "output_type": "stream",
     "text": [
      "Best hyperparameters {'max_depth': 2, 'max_features': 0.24601845647340748, 'min_samples_leaf': 10, 'n_estimators': 251}\n",
      "Cross-validation Accuracy 0.9166206278377381\n"
     ]
    }
   ],
   "source": [
    "# Very little improvement. Let's use RandomizedSearchCV\n",
    "\n",
    "from scipy.stats import randint, uniform\n",
    "\n",
    "clf = RandomForestClassifier(random_state=42)\n",
    "\n",
    "\n",
    "param_distributions={\n",
    "    'n_estimators': randint(30, 500), \n",
    "    'max_features': uniform(), \n",
    "    'min_samples_leaf':  [1, 10, 100],    \n",
    "    'max_depth': randint(1, 12)\n",
    "}\n",
    "\n",
    "k=3\n",
    "groups = train['Year']\n",
    "\n",
    "search = RandomizedSearchCV(\n",
    "    clf,\n",
    "    param_distributions=param_distributions,\n",
    "    n_iter=5,\n",
    "    cv=k,\n",
    "    scoring='roc_auc',\n",
    "    verbose=10,\n",
    "    return_train_score=True,\n",
    "    n_jobs=-1\n",
    ")\n",
    "\n",
    "search.fit(xtrain, ytrain, groups=groups)\n",
    "\n",
    "print('Best hyperparameters', search.best_params_)\n",
    "print('Cross-validation Accuracy', search.best_score_)"
   ]
  },
  {
   "cell_type": "code",
   "execution_count": 16,
   "metadata": {},
   "outputs": [
    {
     "data": {
      "text/html": [
       "<div>\n",
       "<style scoped>\n",
       "    .dataframe tbody tr th:only-of-type {\n",
       "        vertical-align: middle;\n",
       "    }\n",
       "\n",
       "    .dataframe tbody tr th {\n",
       "        vertical-align: top;\n",
       "    }\n",
       "\n",
       "    .dataframe thead th {\n",
       "        text-align: right;\n",
       "    }\n",
       "</style>\n",
       "<table border=\"1\" class=\"dataframe\">\n",
       "  <thead>\n",
       "    <tr style=\"text-align: right;\">\n",
       "      <th></th>\n",
       "      <th>mean_fit_time</th>\n",
       "      <th>std_fit_time</th>\n",
       "      <th>mean_score_time</th>\n",
       "      <th>std_score_time</th>\n",
       "      <th>param_max_depth</th>\n",
       "      <th>param_max_features</th>\n",
       "      <th>param_min_samples_leaf</th>\n",
       "      <th>param_n_estimators</th>\n",
       "      <th>params</th>\n",
       "      <th>split0_test_score</th>\n",
       "      <th>split1_test_score</th>\n",
       "      <th>split2_test_score</th>\n",
       "      <th>mean_test_score</th>\n",
       "      <th>std_test_score</th>\n",
       "      <th>rank_test_score</th>\n",
       "      <th>split0_train_score</th>\n",
       "      <th>split1_train_score</th>\n",
       "      <th>split2_train_score</th>\n",
       "      <th>mean_train_score</th>\n",
       "      <th>std_train_score</th>\n",
       "    </tr>\n",
       "  </thead>\n",
       "  <tbody>\n",
       "    <tr>\n",
       "      <th>0</th>\n",
       "      <td>0.152589</td>\n",
       "      <td>0.007237</td>\n",
       "      <td>0.032249</td>\n",
       "      <td>0.011866</td>\n",
       "      <td>1</td>\n",
       "      <td>0.451688</td>\n",
       "      <td>1</td>\n",
       "      <td>129</td>\n",
       "      <td>{'max_depth': 1, 'max_features': 0.45168829142...</td>\n",
       "      <td>0.970283</td>\n",
       "      <td>0.960288</td>\n",
       "      <td>0.829740</td>\n",
       "      <td>0.920290</td>\n",
       "      <td>0.063961</td>\n",
       "      <td>1</td>\n",
       "      <td>0.883107</td>\n",
       "      <td>0.884566</td>\n",
       "      <td>0.968883</td>\n",
       "      <td>0.912185</td>\n",
       "      <td>0.040096</td>\n",
       "    </tr>\n",
       "    <tr>\n",
       "      <th>4</th>\n",
       "      <td>0.504982</td>\n",
       "      <td>0.019552</td>\n",
       "      <td>0.052522</td>\n",
       "      <td>0.003295</td>\n",
       "      <td>7</td>\n",
       "      <td>0.370702</td>\n",
       "      <td>10</td>\n",
       "      <td>403</td>\n",
       "      <td>{'max_depth': 7, 'max_features': 0.37070243949...</td>\n",
       "      <td>0.969883</td>\n",
       "      <td>0.963486</td>\n",
       "      <td>0.816750</td>\n",
       "      <td>0.916912</td>\n",
       "      <td>0.070655</td>\n",
       "      <td>2</td>\n",
       "      <td>0.953019</td>\n",
       "      <td>0.956275</td>\n",
       "      <td>0.979211</td>\n",
       "      <td>0.962835</td>\n",
       "      <td>0.011656</td>\n",
       "    </tr>\n",
       "    <tr>\n",
       "      <th>2</th>\n",
       "      <td>0.084107</td>\n",
       "      <td>0.016395</td>\n",
       "      <td>0.008648</td>\n",
       "      <td>0.002348</td>\n",
       "      <td>4</td>\n",
       "      <td>0.218095</td>\n",
       "      <td>1</td>\n",
       "      <td>57</td>\n",
       "      <td>{'max_depth': 4, 'max_features': 0.21809455702...</td>\n",
       "      <td>0.964286</td>\n",
       "      <td>0.961620</td>\n",
       "      <td>0.818961</td>\n",
       "      <td>0.915154</td>\n",
       "      <td>0.067817</td>\n",
       "      <td>3</td>\n",
       "      <td>0.959871</td>\n",
       "      <td>0.955733</td>\n",
       "      <td>0.989406</td>\n",
       "      <td>0.968336</td>\n",
       "      <td>0.014994</td>\n",
       "    </tr>\n",
       "    <tr>\n",
       "      <th>3</th>\n",
       "      <td>0.072806</td>\n",
       "      <td>0.016267</td>\n",
       "      <td>0.006982</td>\n",
       "      <td>0.000816</td>\n",
       "      <td>5</td>\n",
       "      <td>0.340172</td>\n",
       "      <td>10</td>\n",
       "      <td>60</td>\n",
       "      <td>{'max_depth': 5, 'max_features': 0.34017218590...</td>\n",
       "      <td>0.966418</td>\n",
       "      <td>0.960821</td>\n",
       "      <td>0.809287</td>\n",
       "      <td>0.912387</td>\n",
       "      <td>0.072714</td>\n",
       "      <td>4</td>\n",
       "      <td>0.950237</td>\n",
       "      <td>0.955393</td>\n",
       "      <td>0.978545</td>\n",
       "      <td>0.961392</td>\n",
       "      <td>0.012310</td>\n",
       "    </tr>\n",
       "    <tr>\n",
       "      <th>1</th>\n",
       "      <td>0.629646</td>\n",
       "      <td>0.021578</td>\n",
       "      <td>0.070146</td>\n",
       "      <td>0.001695</td>\n",
       "      <td>7</td>\n",
       "      <td>0.718043</td>\n",
       "      <td>10</td>\n",
       "      <td>457</td>\n",
       "      <td>{'max_depth': 7, 'max_features': 0.71804314194...</td>\n",
       "      <td>0.956823</td>\n",
       "      <td>0.959488</td>\n",
       "      <td>0.804726</td>\n",
       "      <td>0.907223</td>\n",
       "      <td>0.072261</td>\n",
       "      <td>5</td>\n",
       "      <td>0.965502</td>\n",
       "      <td>0.957972</td>\n",
       "      <td>0.984009</td>\n",
       "      <td>0.969161</td>\n",
       "      <td>0.010940</td>\n",
       "    </tr>\n",
       "  </tbody>\n",
       "</table>\n",
       "</div>"
      ],
      "text/plain": [
       "   mean_fit_time  std_fit_time  mean_score_time  std_score_time  \\\n",
       "0       0.152589      0.007237         0.032249        0.011866   \n",
       "4       0.504982      0.019552         0.052522        0.003295   \n",
       "2       0.084107      0.016395         0.008648        0.002348   \n",
       "3       0.072806      0.016267         0.006982        0.000816   \n",
       "1       0.629646      0.021578         0.070146        0.001695   \n",
       "\n",
       "  param_max_depth param_max_features param_min_samples_leaf  \\\n",
       "0               1           0.451688                      1   \n",
       "4               7           0.370702                     10   \n",
       "2               4           0.218095                      1   \n",
       "3               5           0.340172                     10   \n",
       "1               7           0.718043                     10   \n",
       "\n",
       "  param_n_estimators                                             params  \\\n",
       "0                129  {'max_depth': 1, 'max_features': 0.45168829142...   \n",
       "4                403  {'max_depth': 7, 'max_features': 0.37070243949...   \n",
       "2                 57  {'max_depth': 4, 'max_features': 0.21809455702...   \n",
       "3                 60  {'max_depth': 5, 'max_features': 0.34017218590...   \n",
       "1                457  {'max_depth': 7, 'max_features': 0.71804314194...   \n",
       "\n",
       "   split0_test_score  split1_test_score  split2_test_score  mean_test_score  \\\n",
       "0           0.970283           0.960288           0.829740         0.920290   \n",
       "4           0.969883           0.963486           0.816750         0.916912   \n",
       "2           0.964286           0.961620           0.818961         0.915154   \n",
       "3           0.966418           0.960821           0.809287         0.912387   \n",
       "1           0.956823           0.959488           0.804726         0.907223   \n",
       "\n",
       "   std_test_score  rank_test_score  split0_train_score  split1_train_score  \\\n",
       "0        0.063961                1            0.883107            0.884566   \n",
       "4        0.070655                2            0.953019            0.956275   \n",
       "2        0.067817                3            0.959871            0.955733   \n",
       "3        0.072714                4            0.950237            0.955393   \n",
       "1        0.072261                5            0.965502            0.957972   \n",
       "\n",
       "   split2_train_score  mean_train_score  std_train_score  \n",
       "0            0.968883          0.912185         0.040096  \n",
       "4            0.979211          0.962835         0.011656  \n",
       "2            0.989406          0.968336         0.014994  \n",
       "3            0.978545          0.961392         0.012310  \n",
       "1            0.984009          0.969161         0.010940  "
      ]
     },
     "execution_count": 16,
     "metadata": {},
     "output_type": "execute_result"
    }
   ],
   "source": [
    "# Wow, that's a Great Score. Let's take a look at the hyperparameter values\n",
    "pd.DataFrame(search.cv_results_).sort_values(by='rank_test_score')"
   ]
  },
  {
   "cell_type": "code",
   "execution_count": 20,
   "metadata": {},
   "outputs": [
    {
     "name": "stdout",
     "output_type": "stream",
     "text": [
      "Fitting 3 folds for each of 5 candidates, totalling 15 fits\n"
     ]
    },
    {
     "name": "stderr",
     "output_type": "stream",
     "text": [
      "[Parallel(n_jobs=-1)]: Using backend LokyBackend with 4 concurrent workers.\n",
      "[Parallel(n_jobs=-1)]: Batch computation too fast (0.1506s.) Setting batch_size=2.\n",
      "[Parallel(n_jobs=-1)]: Done   5 tasks      | elapsed:    0.4s\n",
      "[Parallel(n_jobs=-1)]: Done   6 out of  15 | elapsed:    0.6s remaining:    1.0s\n",
      "[Parallel(n_jobs=-1)]: Done  10 out of  15 | elapsed:    0.8s remaining:    0.3s\n"
     ]
    },
    {
     "name": "stdout",
     "output_type": "stream",
     "text": [
      "Best hyperparameters {'max_depth': 10, 'min_child_weight': 1, 'n_estimators': 31}\n",
      "Cross-validation Accuracy 0.8938329340044987\n"
     ]
    },
    {
     "name": "stderr",
     "output_type": "stream",
     "text": [
      "[Parallel(n_jobs=-1)]: Done  15 out of  15 | elapsed:    0.9s finished\n",
      "C:\\Users\\Raul\\Anaconda3\\lib\\site-packages\\sklearn\\model_selection\\_search.py:813: DeprecationWarning: The default of the `iid` parameter will change from True to False in version 0.22 and will be removed in 0.24. This will change numeric results when test-set sizes are unequal.\n",
      "  DeprecationWarning)\n"
     ]
    }
   ],
   "source": [
    "# I want to push the envelope. I'm going to give XGBClassifier a try also\n",
    "\n",
    "clf = XGBClassifier(random_state=42, base_score=0.5)\n",
    "\n",
    "\n",
    "param_distributions={\n",
    "    'n_estimators': randint(30, 500), \n",
    "#     'max_features': uniform(), \n",
    "    'min_child_weight':  [1, 10, 100],    \n",
    "    'max_depth': randint(1, 12)\n",
    "}\n",
    "\n",
    "k=3\n",
    "groups = train['Year']\n",
    "\n",
    "search = RandomizedSearchCV(\n",
    "    clf,\n",
    "    param_distributions=param_distributions,\n",
    "    n_iter=5,\n",
    "    cv=k,\n",
    "    scoring='roc_auc',\n",
    "    verbose=10,\n",
    "    return_train_score=True,\n",
    "    n_jobs=-1\n",
    ")\n",
    "\n",
    "search.fit(xtrain, ytrain, groups=groups)\n",
    "\n",
    "print('Best hyperparameters', search.best_params_)\n",
    "print('Cross-validation Accuracy', search.best_score_)"
   ]
  },
  {
   "cell_type": "code",
   "execution_count": null,
   "metadata": {},
   "outputs": [],
   "source": [
    "# Nope, not an improvement in this case"
   ]
  }
 ],
 "metadata": {
  "kernelspec": {
   "display_name": "Python 3",
   "language": "python",
   "name": "python3"
  },
  "language_info": {
   "codemirror_mode": {
    "name": "ipython",
    "version": 3
   },
   "file_extension": ".py",
   "mimetype": "text/x-python",
   "name": "python",
   "nbconvert_exporter": "python",
   "pygments_lexer": "ipython3",
   "version": "3.7.3"
  }
 },
 "nbformat": 4,
 "nbformat_minor": 2
}
